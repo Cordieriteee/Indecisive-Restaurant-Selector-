{
 "cells": [
  {
   "cell_type": "code",
   "execution_count": 1,
   "metadata": {},
   "outputs": [],
   "source": [
    "import requests\n",
    "import json\n",
    "import os"
   ]
  },
  {
   "cell_type": "code",
   "execution_count": 2,
   "metadata": {},
   "outputs": [],
   "source": [
    "api_key = os.getenv('GOOGLE_MAP_API_KEY')"
   ]
  },
  {
   "cell_type": "code",
   "execution_count": 3,
   "metadata": {},
   "outputs": [],
   "source": [
    "#基础数据设置\n",
    "\n",
    "url = 'https://maps.googleapis.com/maps/api/place/nearbysearch/json'\n",
    "radius = float(input(\"enter search radius in meters: \"))\n",
    "center = '38.544657, -121.740501' ##目测dt中心\n"
   ]
  },
  {
   "cell_type": "code",
   "execution_count": 4,
   "metadata": {},
   "outputs": [
    {
     "data": {
      "text/plain": [
       "'200: 成功（OK）。请求已成功处理。通常，这表示服务器已成功返回请求的资源。\\n201: 已创建（Created）。请求成功并在服务器上创建了新的资源。\\n204: 无内容（No Content）。服务器成功处理了请求，但没有返回任何内容。\\n400: 错误请求（Bad Request）。服务器无法处理请求，因为客户端发送的数据有误。\\n401: 未授权（Unauthorized）。请求需要身份验证。\\n403: 禁止（Forbidden）。服务器理解请求，但拒绝执行。\\n404: 未找到（Not Found）。服务器找不到请求的资源。\\n500: 服务器内部错误（Internal Server Error）。服务器在处理请求时发生了错误。'"
      ]
     },
     "execution_count": 4,
     "metadata": {},
     "output_type": "execute_result"
    }
   ],
   "source": [
    "#获取饭店信息\n",
    "def get_place(api_key = api_key, location = center, radius = radius, place_type = 'restaurant'):\n",
    "    para = {\n",
    "        'key': api_key,\n",
    "        'location': location,\n",
    "        'radius': radius,\n",
    "        'type': place_type\n",
    "    }\n",
    "\n",
    "    response = requests.get(url, params = para)\n",
    "\n",
    "    #check status\n",
    "    if response.status_code == 200:\n",
    "\n",
    "        #转换为python字典（response.json()内置方法），用['results']提取数据\n",
    "        places = response.json()['results']\n",
    "        return places\n",
    "    else:\n",
    "        print('Error:', response.status_code, response.text)\n",
    "        return []\n",
    "    \n",
    "\n",
    "'''200: 成功（OK）。请求已成功处理。通常，这表示服务器已成功返回请求的资源。\n",
    "201: 已创建（Created）。请求成功并在服务器上创建了新的资源。\n",
    "204: 无内容（No Content）。服务器成功处理了请求，但没有返回任何内容。\n",
    "400: 错误请求（Bad Request）。服务器无法处理请求，因为客户端发送的数据有误。\n",
    "401: 未授权（Unauthorized）。请求需要身份验证。\n",
    "403: 禁止（Forbidden）。服务器理解请求，但拒绝执行。\n",
    "404: 未找到（Not Found）。服务器找不到请求的资源。\n",
    "500: 服务器内部错误（Internal Server Error）。服务器在处理请求时发生了错误。'''"
   ]
  },
  {
   "cell_type": "code",
   "execution_count": 5,
   "metadata": {},
   "outputs": [],
   "source": [
    "places = get_place()"
   ]
  },
  {
   "cell_type": "code",
   "execution_count": 6,
   "metadata": {},
   "outputs": [],
   "source": [
    "# 保存饭店信息到 JSON 文件,供后续使用\n",
    "def save_places(places, filename = 'places.json'):\n",
    "    with open(filename, 'w') as file:\n",
    "        json.dump(places, file, indent = 2)\n",
    "\n",
    "save_places(places)"
   ]
  }
 ],
 "metadata": {
  "kernelspec": {
   "display_name": "Python 3",
   "language": "python",
   "name": "python3"
  },
  "language_info": {
   "codemirror_mode": {
    "name": "ipython",
    "version": 3
   },
   "file_extension": ".py",
   "mimetype": "text/x-python",
   "name": "python",
   "nbconvert_exporter": "python",
   "pygments_lexer": "ipython3",
   "version": "3.12.0"
  }
 },
 "nbformat": 4,
 "nbformat_minor": 2
}
